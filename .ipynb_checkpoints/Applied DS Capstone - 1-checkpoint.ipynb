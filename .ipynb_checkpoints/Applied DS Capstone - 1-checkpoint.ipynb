{
 "cells": [
  {
   "cell_type": "markdown",
   "metadata": {},
   "source": [
    "<h2>Applied DS Capstone Project</h2>\n",
    "<p>This notebook is the Capstone Project for the Applied Data Science Certification path on Coursera.org</p>"
   ]
  },
  {
   "cell_type": "code",
   "execution_count": 1,
   "metadata": {},
   "outputs": [
    {
     "name": "stdout",
     "output_type": "stream",
     "text": [
      "Hello Capstone Project Course!\n"
     ]
    }
   ],
   "source": [
    "import pandas as pd\n",
    "import numpy as np\n",
    "print('hello capstone project course!'.title())"
   ]
  },
  {
   "cell_type": "markdown",
   "metadata": {},
   "source": [
    "Replicate the exploration and clustering of New York City using Toronto"
   ]
  },
  {
   "cell_type": "code",
   "execution_count": 2,
   "metadata": {},
   "outputs": [],
   "source": [
    "t = pd.read_html('https://en.wikipedia.org/wiki/List_of_neighbourhoods_in_Toronto#Table')"
   ]
  },
  {
   "cell_type": "code",
   "execution_count": 74,
   "metadata": {},
   "outputs": [],
   "source": [
    "provided = pd.read_html('https://en.wikipedia.org/wiki/List_of_postal_codes_of_Canada:_M')"
   ]
  },
  {
   "cell_type": "code",
   "execution_count": 76,
   "metadata": {},
   "outputs": [
    {
     "name": "stdout",
     "output_type": "stream",
     "text": [
      "Your table is at index 0\n"
     ]
    },
    {
     "data": {
      "text/html": [
       "<div>\n",
       "<style scoped>\n",
       "    .dataframe tbody tr th:only-of-type {\n",
       "        vertical-align: middle;\n",
       "    }\n",
       "\n",
       "    .dataframe tbody tr th {\n",
       "        vertical-align: top;\n",
       "    }\n",
       "\n",
       "    .dataframe thead th {\n",
       "        text-align: right;\n",
       "    }\n",
       "</style>\n",
       "<table border=\"1\" class=\"dataframe\">\n",
       "  <thead>\n",
       "    <tr style=\"text-align: right;\">\n",
       "      <th></th>\n",
       "      <th>Postal Code</th>\n",
       "      <th>Borough</th>\n",
       "      <th>Neighbourhood</th>\n",
       "    </tr>\n",
       "  </thead>\n",
       "  <tbody>\n",
       "    <tr>\n",
       "      <td>0</td>\n",
       "      <td>M1A</td>\n",
       "      <td>Not assigned</td>\n",
       "      <td>Not assigned</td>\n",
       "    </tr>\n",
       "    <tr>\n",
       "      <td>1</td>\n",
       "      <td>M2A</td>\n",
       "      <td>Not assigned</td>\n",
       "      <td>Not assigned</td>\n",
       "    </tr>\n",
       "    <tr>\n",
       "      <td>2</td>\n",
       "      <td>M3A</td>\n",
       "      <td>North York</td>\n",
       "      <td>Parkwoods</td>\n",
       "    </tr>\n",
       "    <tr>\n",
       "      <td>3</td>\n",
       "      <td>M4A</td>\n",
       "      <td>North York</td>\n",
       "      <td>Victoria Village</td>\n",
       "    </tr>\n",
       "    <tr>\n",
       "      <td>4</td>\n",
       "      <td>M5A</td>\n",
       "      <td>Downtown Toronto</td>\n",
       "      <td>Regent Park, Harbourfront</td>\n",
       "    </tr>\n",
       "    <tr>\n",
       "      <td>...</td>\n",
       "      <td>...</td>\n",
       "      <td>...</td>\n",
       "      <td>...</td>\n",
       "    </tr>\n",
       "    <tr>\n",
       "      <td>175</td>\n",
       "      <td>M5Z</td>\n",
       "      <td>Not assigned</td>\n",
       "      <td>Not assigned</td>\n",
       "    </tr>\n",
       "    <tr>\n",
       "      <td>176</td>\n",
       "      <td>M6Z</td>\n",
       "      <td>Not assigned</td>\n",
       "      <td>Not assigned</td>\n",
       "    </tr>\n",
       "    <tr>\n",
       "      <td>177</td>\n",
       "      <td>M7Z</td>\n",
       "      <td>Not assigned</td>\n",
       "      <td>Not assigned</td>\n",
       "    </tr>\n",
       "    <tr>\n",
       "      <td>178</td>\n",
       "      <td>M8Z</td>\n",
       "      <td>Etobicoke</td>\n",
       "      <td>Mimico NW, The Queensway West, South of Bloor,...</td>\n",
       "    </tr>\n",
       "    <tr>\n",
       "      <td>179</td>\n",
       "      <td>M9Z</td>\n",
       "      <td>Not assigned</td>\n",
       "      <td>Not assigned</td>\n",
       "    </tr>\n",
       "  </tbody>\n",
       "</table>\n",
       "<p>180 rows × 3 columns</p>\n",
       "</div>"
      ],
      "text/plain": [
       "    Postal Code           Borough  \\\n",
       "0           M1A      Not assigned   \n",
       "1           M2A      Not assigned   \n",
       "2           M3A        North York   \n",
       "3           M4A        North York   \n",
       "4           M5A  Downtown Toronto   \n",
       "..          ...               ...   \n",
       "175         M5Z      Not assigned   \n",
       "176         M6Z      Not assigned   \n",
       "177         M7Z      Not assigned   \n",
       "178         M8Z         Etobicoke   \n",
       "179         M9Z      Not assigned   \n",
       "\n",
       "                                         Neighbourhood  \n",
       "0                                         Not assigned  \n",
       "1                                         Not assigned  \n",
       "2                                            Parkwoods  \n",
       "3                                     Victoria Village  \n",
       "4                            Regent Park, Harbourfront  \n",
       "..                                                 ...  \n",
       "175                                       Not assigned  \n",
       "176                                       Not assigned  \n",
       "177                                       Not assigned  \n",
       "178  Mimico NW, The Queensway West, South of Bloor,...  \n",
       "179                                       Not assigned  \n",
       "\n",
       "[180 rows x 3 columns]"
      ]
     },
     "execution_count": 76,
     "metadata": {},
     "output_type": "execute_result"
    }
   ],
   "source": [
    "for i, tbl in enumerate(provided):\n",
    "    if \"Borough\" in tbl.columns:\n",
    "        print(f'Your table is at index {i}')\n",
    "        break\n",
    "provided[i]"
   ]
  },
  {
   "cell_type": "code",
   "execution_count": 79,
   "metadata": {},
   "outputs": [
    {
     "data": {
      "text/html": [
       "<div>\n",
       "<style scoped>\n",
       "    .dataframe tbody tr th:only-of-type {\n",
       "        vertical-align: middle;\n",
       "    }\n",
       "\n",
       "    .dataframe tbody tr th {\n",
       "        vertical-align: top;\n",
       "    }\n",
       "\n",
       "    .dataframe thead th {\n",
       "        text-align: right;\n",
       "    }\n",
       "</style>\n",
       "<table border=\"1\" class=\"dataframe\">\n",
       "  <thead>\n",
       "    <tr style=\"text-align: right;\">\n",
       "      <th></th>\n",
       "      <th>Postal Code</th>\n",
       "      <th>Borough</th>\n",
       "      <th>Neighbourhood</th>\n",
       "    </tr>\n",
       "  </thead>\n",
       "  <tbody>\n",
       "    <tr>\n",
       "      <td>0</td>\n",
       "      <td>M3A</td>\n",
       "      <td>North York</td>\n",
       "      <td>Parkwoods</td>\n",
       "    </tr>\n",
       "    <tr>\n",
       "      <td>1</td>\n",
       "      <td>M4A</td>\n",
       "      <td>North York</td>\n",
       "      <td>Victoria Village</td>\n",
       "    </tr>\n",
       "    <tr>\n",
       "      <td>2</td>\n",
       "      <td>M5A</td>\n",
       "      <td>Downtown Toronto</td>\n",
       "      <td>Regent Park, Harbourfront</td>\n",
       "    </tr>\n",
       "    <tr>\n",
       "      <td>3</td>\n",
       "      <td>M6A</td>\n",
       "      <td>North York</td>\n",
       "      <td>Lawrence Manor, Lawrence Heights</td>\n",
       "    </tr>\n",
       "    <tr>\n",
       "      <td>4</td>\n",
       "      <td>M7A</td>\n",
       "      <td>Downtown Toronto</td>\n",
       "      <td>Queen's Park, Ontario Provincial Government</td>\n",
       "    </tr>\n",
       "    <tr>\n",
       "      <td>...</td>\n",
       "      <td>...</td>\n",
       "      <td>...</td>\n",
       "      <td>...</td>\n",
       "    </tr>\n",
       "    <tr>\n",
       "      <td>98</td>\n",
       "      <td>M8X</td>\n",
       "      <td>Etobicoke</td>\n",
       "      <td>The Kingsway, Montgomery Road, Old Mill North</td>\n",
       "    </tr>\n",
       "    <tr>\n",
       "      <td>99</td>\n",
       "      <td>M4Y</td>\n",
       "      <td>Downtown Toronto</td>\n",
       "      <td>Church and Wellesley</td>\n",
       "    </tr>\n",
       "    <tr>\n",
       "      <td>100</td>\n",
       "      <td>M7Y</td>\n",
       "      <td>East Toronto</td>\n",
       "      <td>Business reply mail Processing Centre, South C...</td>\n",
       "    </tr>\n",
       "    <tr>\n",
       "      <td>101</td>\n",
       "      <td>M8Y</td>\n",
       "      <td>Etobicoke</td>\n",
       "      <td>Old Mill South, King's Mill Park, Sunnylea, Hu...</td>\n",
       "    </tr>\n",
       "    <tr>\n",
       "      <td>102</td>\n",
       "      <td>M8Z</td>\n",
       "      <td>Etobicoke</td>\n",
       "      <td>Mimico NW, The Queensway West, South of Bloor,...</td>\n",
       "    </tr>\n",
       "  </tbody>\n",
       "</table>\n",
       "<p>103 rows × 3 columns</p>\n",
       "</div>"
      ],
      "text/plain": [
       "    Postal Code           Borough  \\\n",
       "0           M3A        North York   \n",
       "1           M4A        North York   \n",
       "2           M5A  Downtown Toronto   \n",
       "3           M6A        North York   \n",
       "4           M7A  Downtown Toronto   \n",
       "..          ...               ...   \n",
       "98          M8X         Etobicoke   \n",
       "99          M4Y  Downtown Toronto   \n",
       "100         M7Y      East Toronto   \n",
       "101         M8Y         Etobicoke   \n",
       "102         M8Z         Etobicoke   \n",
       "\n",
       "                                         Neighbourhood  \n",
       "0                                            Parkwoods  \n",
       "1                                     Victoria Village  \n",
       "2                            Regent Park, Harbourfront  \n",
       "3                     Lawrence Manor, Lawrence Heights  \n",
       "4          Queen's Park, Ontario Provincial Government  \n",
       "..                                                 ...  \n",
       "98       The Kingsway, Montgomery Road, Old Mill North  \n",
       "99                                Church and Wellesley  \n",
       "100  Business reply mail Processing Centre, South C...  \n",
       "101  Old Mill South, King's Mill Park, Sunnylea, Hu...  \n",
       "102  Mimico NW, The Queensway West, South of Bloor,...  \n",
       "\n",
       "[103 rows x 3 columns]"
      ]
     },
     "execution_count": 79,
     "metadata": {},
     "output_type": "execute_result"
    }
   ],
   "source": [
    "df_postal = provided[0][provided[0]['Borough']!='Not assigned'].reset_index(drop = True)\n",
    "df_postal"
   ]
  },
  {
   "cell_type": "code",
   "execution_count": 82,
   "metadata": {},
   "outputs": [
    {
     "name": "stdout",
     "output_type": "stream",
     "text": [
      "['North York' 'Downtown Toronto' 'Etobicoke' 'Scarborough' 'East York'\n",
      " 'York' 'East Toronto' 'West Toronto' 'Central Toronto' 'Mississauga'] ['East York' 'Etobicoke' 'North York' 'Old City of Toronto' 'Scarborough'\n",
      " 'York']\n"
     ]
    }
   ],
   "source": [
    "print(df_postal['Borough'].unique())"
   ]
  },
  {
   "cell_type": "code",
   "execution_count": 3,
   "metadata": {},
   "outputs": [
    {
     "data": {
      "text/plain": [
       "17"
      ]
     },
     "execution_count": 3,
     "metadata": {},
     "output_type": "execute_result"
    }
   ],
   "source": [
    "len(t)"
   ]
  },
  {
   "cell_type": "code",
   "execution_count": 4,
   "metadata": {},
   "outputs": [
    {
     "name": "stdout",
     "output_type": "stream",
     "text": [
      "Your table is at index 11\n"
     ]
    },
    {
     "data": {
      "text/html": [
       "<div>\n",
       "<style scoped>\n",
       "    .dataframe tbody tr th:only-of-type {\n",
       "        vertical-align: middle;\n",
       "    }\n",
       "\n",
       "    .dataframe tbody tr th {\n",
       "        vertical-align: top;\n",
       "    }\n",
       "\n",
       "    .dataframe thead th {\n",
       "        text-align: right;\n",
       "    }\n",
       "</style>\n",
       "<table border=\"1\" class=\"dataframe\">\n",
       "  <thead>\n",
       "    <tr style=\"text-align: right;\">\n",
       "      <th></th>\n",
       "      <th>CDN number</th>\n",
       "      <th>City-designated neighbourhood</th>\n",
       "      <th>Former city/borough</th>\n",
       "      <th>Neighbourhoods covered</th>\n",
       "      <th>Map</th>\n",
       "      <th>Unnamed: 5</th>\n",
       "    </tr>\n",
       "  </thead>\n",
       "  <tbody>\n",
       "    <tr>\n",
       "      <td>0</td>\n",
       "      <td>129</td>\n",
       "      <td>Agincourt North</td>\n",
       "      <td>Scarborough</td>\n",
       "      <td>Agincourt and Brimwood</td>\n",
       "      <td>NaN</td>\n",
       "      <td>NaN</td>\n",
       "    </tr>\n",
       "    <tr>\n",
       "      <td>1</td>\n",
       "      <td>128</td>\n",
       "      <td>Agincourt South-Malvern West</td>\n",
       "      <td>Scarborough</td>\n",
       "      <td>Agincourt and Malvern</td>\n",
       "      <td>NaN</td>\n",
       "      <td>NaN</td>\n",
       "    </tr>\n",
       "    <tr>\n",
       "      <td>2</td>\n",
       "      <td>20</td>\n",
       "      <td>Alderwood</td>\n",
       "      <td>Etobicoke</td>\n",
       "      <td>Alderwood</td>\n",
       "      <td>NaN</td>\n",
       "      <td>NaN</td>\n",
       "    </tr>\n",
       "    <tr>\n",
       "      <td>3</td>\n",
       "      <td>95</td>\n",
       "      <td>Annex</td>\n",
       "      <td>Old City of Toronto</td>\n",
       "      <td>The Annex and Seaton Village</td>\n",
       "      <td>NaN</td>\n",
       "      <td>NaN</td>\n",
       "    </tr>\n",
       "    <tr>\n",
       "      <td>4</td>\n",
       "      <td>42</td>\n",
       "      <td>Banbury-Don Mills</td>\n",
       "      <td>North York</td>\n",
       "      <td>Don Mills</td>\n",
       "      <td>NaN</td>\n",
       "      <td>NaN</td>\n",
       "    </tr>\n",
       "    <tr>\n",
       "      <td>...</td>\n",
       "      <td>...</td>\n",
       "      <td>...</td>\n",
       "      <td>...</td>\n",
       "      <td>...</td>\n",
       "      <td>...</td>\n",
       "      <td>...</td>\n",
       "    </tr>\n",
       "    <tr>\n",
       "      <td>135</td>\n",
       "      <td>94</td>\n",
       "      <td>Wychwood</td>\n",
       "      <td>Old City of Toronto</td>\n",
       "      <td>NaN</td>\n",
       "      <td>NaN</td>\n",
       "      <td>NaN</td>\n",
       "    </tr>\n",
       "    <tr>\n",
       "      <td>136</td>\n",
       "      <td>100</td>\n",
       "      <td>Yonge and Eglinton</td>\n",
       "      <td>Old City of Toronto</td>\n",
       "      <td>Chaplin Estates</td>\n",
       "      <td>NaN</td>\n",
       "      <td>NaN</td>\n",
       "    </tr>\n",
       "    <tr>\n",
       "      <td>137</td>\n",
       "      <td>97</td>\n",
       "      <td>Yonge-St.Clair</td>\n",
       "      <td>Old City of Toronto</td>\n",
       "      <td>NaN</td>\n",
       "      <td>NaN</td>\n",
       "      <td>NaN</td>\n",
       "    </tr>\n",
       "    <tr>\n",
       "      <td>138</td>\n",
       "      <td>27</td>\n",
       "      <td>York University Heights</td>\n",
       "      <td>North York</td>\n",
       "      <td>NaN</td>\n",
       "      <td>NaN</td>\n",
       "      <td>NaN</td>\n",
       "    </tr>\n",
       "    <tr>\n",
       "      <td>139</td>\n",
       "      <td>31</td>\n",
       "      <td>Yorkdale-Glen Park</td>\n",
       "      <td>North York</td>\n",
       "      <td>Glen Park, Lawrence Heights</td>\n",
       "      <td>NaN</td>\n",
       "      <td>NaN</td>\n",
       "    </tr>\n",
       "  </tbody>\n",
       "</table>\n",
       "<p>140 rows × 6 columns</p>\n",
       "</div>"
      ],
      "text/plain": [
       "     CDN number City-designated neighbourhood  Former city/borough  \\\n",
       "0           129               Agincourt North          Scarborough   \n",
       "1           128  Agincourt South-Malvern West          Scarborough   \n",
       "2            20                     Alderwood            Etobicoke   \n",
       "3            95                         Annex  Old City of Toronto   \n",
       "4            42             Banbury-Don Mills           North York   \n",
       "..          ...                           ...                  ...   \n",
       "135          94                      Wychwood  Old City of Toronto   \n",
       "136         100            Yonge and Eglinton  Old City of Toronto   \n",
       "137          97                Yonge-St.Clair  Old City of Toronto   \n",
       "138          27       York University Heights           North York   \n",
       "139          31            Yorkdale-Glen Park           North York   \n",
       "\n",
       "           Neighbourhoods covered  Map  Unnamed: 5  \n",
       "0          Agincourt and Brimwood  NaN         NaN  \n",
       "1           Agincourt and Malvern  NaN         NaN  \n",
       "2                       Alderwood  NaN         NaN  \n",
       "3    The Annex and Seaton Village  NaN         NaN  \n",
       "4                       Don Mills  NaN         NaN  \n",
       "..                            ...  ...         ...  \n",
       "135                           NaN  NaN         NaN  \n",
       "136               Chaplin Estates  NaN         NaN  \n",
       "137                           NaN  NaN         NaN  \n",
       "138                           NaN  NaN         NaN  \n",
       "139   Glen Park, Lawrence Heights  NaN         NaN  \n",
       "\n",
       "[140 rows x 6 columns]"
      ]
     },
     "execution_count": 4,
     "metadata": {},
     "output_type": "execute_result"
    }
   ],
   "source": [
    "for i, tbl in enumerate(t):\n",
    "    if \"CDN number\" in tbl.columns:\n",
    "        print(f'Your table is at index {i}')\n",
    "        break\n",
    "t[i]        "
   ]
  },
  {
   "cell_type": "code",
   "execution_count": 7,
   "metadata": {},
   "outputs": [],
   "source": [
    "toronto_raw = t[11].loc[:,['Former city/borough', 'City-designated neighbourhood']]\n",
    "toronto_raw.columns = ['Borough', 'Neighborhood']"
   ]
  },
  {
   "cell_type": "code",
   "execution_count": 18,
   "metadata": {},
   "outputs": [],
   "source": [
    "toronto_raw.sort_values(['Borough', 'Neighborhood'], inplace=True)"
   ]
  },
  {
   "cell_type": "code",
   "execution_count": 20,
   "metadata": {},
   "outputs": [
    {
     "data": {
      "text/html": [
       "<div>\n",
       "<style scoped>\n",
       "    .dataframe tbody tr th:only-of-type {\n",
       "        vertical-align: middle;\n",
       "    }\n",
       "\n",
       "    .dataframe tbody tr th {\n",
       "        vertical-align: top;\n",
       "    }\n",
       "\n",
       "    .dataframe thead th {\n",
       "        text-align: right;\n",
       "    }\n",
       "</style>\n",
       "<table border=\"1\" class=\"dataframe\">\n",
       "  <thead>\n",
       "    <tr style=\"text-align: right;\">\n",
       "      <th></th>\n",
       "      <th>Borough</th>\n",
       "      <th>Neighborhood</th>\n",
       "    </tr>\n",
       "  </thead>\n",
       "  <tbody>\n",
       "    <tr>\n",
       "      <td>0</td>\n",
       "      <td>East York</td>\n",
       "      <td>Broadview North</td>\n",
       "    </tr>\n",
       "    <tr>\n",
       "      <td>1</td>\n",
       "      <td>East York</td>\n",
       "      <td>Crescent Town</td>\n",
       "    </tr>\n",
       "    <tr>\n",
       "      <td>2</td>\n",
       "      <td>East York</td>\n",
       "      <td>Danforth - East York</td>\n",
       "    </tr>\n",
       "    <tr>\n",
       "      <td>3</td>\n",
       "      <td>East York</td>\n",
       "      <td>Leaside-Bennington</td>\n",
       "    </tr>\n",
       "    <tr>\n",
       "      <td>4</td>\n",
       "      <td>East York</td>\n",
       "      <td>O'Connor-Parkview</td>\n",
       "    </tr>\n",
       "    <tr>\n",
       "      <td>...</td>\n",
       "      <td>...</td>\n",
       "      <td>...</td>\n",
       "    </tr>\n",
       "    <tr>\n",
       "      <td>135</td>\n",
       "      <td>York</td>\n",
       "      <td>Lambton Baby Point</td>\n",
       "    </tr>\n",
       "    <tr>\n",
       "      <td>136</td>\n",
       "      <td>York</td>\n",
       "      <td>Mount Dennis</td>\n",
       "    </tr>\n",
       "    <tr>\n",
       "      <td>137</td>\n",
       "      <td>York</td>\n",
       "      <td>Oakwood Village</td>\n",
       "    </tr>\n",
       "    <tr>\n",
       "      <td>138</td>\n",
       "      <td>York</td>\n",
       "      <td>Rockcliffe-Smythe</td>\n",
       "    </tr>\n",
       "    <tr>\n",
       "      <td>139</td>\n",
       "      <td>York</td>\n",
       "      <td>Weston</td>\n",
       "    </tr>\n",
       "  </tbody>\n",
       "</table>\n",
       "<p>140 rows × 2 columns</p>\n",
       "</div>"
      ],
      "text/plain": [
       "       Borough          Neighborhood\n",
       "0    East York       Broadview North\n",
       "1    East York         Crescent Town\n",
       "2    East York  Danforth - East York\n",
       "3    East York    Leaside-Bennington\n",
       "4    East York     O'Connor-Parkview\n",
       "..         ...                   ...\n",
       "135       York    Lambton Baby Point\n",
       "136       York          Mount Dennis\n",
       "137       York       Oakwood Village\n",
       "138       York     Rockcliffe-Smythe\n",
       "139       York                Weston\n",
       "\n",
       "[140 rows x 2 columns]"
      ]
     },
     "execution_count": 20,
     "metadata": {},
     "output_type": "execute_result"
    }
   ],
   "source": [
    "toronto_raw.reset_index(drop=True, inplace=True)\n",
    "toronto_raw"
   ]
  },
  {
   "cell_type": "code",
   "execution_count": 21,
   "metadata": {},
   "outputs": [],
   "source": [
    "import json\n",
    "\n",
    "from geopy.geocoders import Nominatim\n",
    "from sklearn.cluster import KMeans\n",
    "from pandas.io.json import json_normalize\n",
    "\n",
    "import folium as fm\n",
    "import matplotlib.cm as cm\n",
    "import matplotlib.colors as colors"
   ]
  },
  {
   "cell_type": "code",
   "execution_count": 63,
   "metadata": {},
   "outputs": [
    {
     "name": "stdout",
     "output_type": "stream",
     "text": [
      "The geograpical coordinates of Toronto, ON are  43.653482, -79.383935.\n"
     ]
    }
   ],
   "source": [
    "address = 'Toronto, ON'\n",
    "\n",
    "geolocator = Nominatim(user_agent=\"toronto_explorer\")\n",
    "location = geolocator.geocode(address)\n",
    "t_lat = location.latitude\n",
    "t_long = location.longitude\n",
    "print(f'The geograpical coordinates of {address} are {t_lat:10f}, {t_long:10f}.')"
   ]
  },
  {
   "cell_type": "code",
   "execution_count": 34,
   "metadata": {},
   "outputs": [
    {
     "name": "stdout",
     "output_type": "stream",
     "text": [
      "The geograpical coordinates of           East York are  43.699971, -79.332520.\n",
      "The geograpical coordinates of           Etobicoke are  43.643556, -79.565633.\n",
      "The geograpical coordinates of          North York are  43.754326, -79.449117.\n",
      "The geograpical coordinates of Old City of Toronto are  43.620412, -79.373492.\n",
      "The geograpical coordinates of         Scarborough are  43.773077, -79.257774.\n",
      "The geograpical coordinates of                York are  43.689619, -79.479188.\n"
     ]
    }
   ],
   "source": [
    "for rough in toronto_raw['Borough'].unique():\n",
    "    address = rough +', Toronto, ON'\n",
    "\n",
    "    geolocator = Nominatim(user_agent=\"toronto_explorer\")\n",
    "    location = geolocator.geocode(address)\n",
    "    latitude = location.latitude\n",
    "    longitude = location.longitude\n",
    "    print(f'The geograpical coordinates of {rough:>19} are {latitude:10f}, {longitude:10f}.')"
   ]
  },
  {
   "cell_type": "code",
   "execution_count": 26,
   "metadata": {},
   "outputs": [
    {
     "data": {
      "text/plain": [
       "array(['East York', 'Etobicoke', 'North York', 'Old City of Toronto',\n",
       "       'Scarborough', 'York'], dtype=object)"
      ]
     },
     "execution_count": 26,
     "metadata": {},
     "output_type": "execute_result"
    }
   ],
   "source": [
    "toronto_raw['Borough'].unique()"
   ]
  },
  {
   "cell_type": "code",
   "execution_count": 37,
   "metadata": {},
   "outputs": [],
   "source": [
    "borough_filter = toronto_raw['Borough'] == 'East York'\n",
    "one_borough = toronto_raw[borough_filter]"
   ]
  },
  {
   "cell_type": "code",
   "execution_count": 38,
   "metadata": {},
   "outputs": [
    {
     "name": "stdout",
     "output_type": "stream",
     "text": [
      "The geograpical coordinates of     Broadview North are  43.683924, -79.356964.\n",
      "The geograpical coordinates of       Crescent Town are  43.695403, -79.293099.\n",
      "The geograpical coordinates of Danforth - East York are  43.686433, -79.300355.\n",
      "Leaside-Bennington was not mapped\n",
      "The geograpical coordinates of   O'Connor-Parkview are  43.707842, -79.311074.\n",
      "The geograpical coordinates of       Old East York are  43.699971, -79.332520.\n",
      "The geograpical coordinates of    Thorncliffe Park are  43.704553, -79.345407.\n",
      "Woodbine-Lumsden was not mapped\n"
     ]
    }
   ],
   "source": [
    "for hood in one_borough['Neighborhood']:\n",
    "    address = hood +', Toronto, ON'\n",
    "    \n",
    "    try:\n",
    "        geolocator = Nominatim(user_agent=\"toronto_explorer\")\n",
    "        location = geolocator.geocode(address)\n",
    "        latitude = location.latitude\n",
    "        longitude = location.longitude\n",
    "        print(f'The geograpical coordinates of {hood:>19} are {latitude:10f}, {longitude:10f}.')\n",
    "    except:\n",
    "        print(f'{hood} was not mapped')"
   ]
  },
  {
   "cell_type": "code",
   "execution_count": null,
   "metadata": {},
   "outputs": [],
   "source": [
    "latlong_dict = {'Lat': [], 'Long':[]}\n",
    "\n",
    "for hood in toronto_raw['Neighborhood']:\n",
    "    address = hood +', Toronto, ON'\n",
    "    \n",
    "    try:\n",
    "        geolocator = Nominatim(user_agent=\"toronto_explorer\")\n",
    "        location = geolocator.geocode(address)\n",
    "        latitude = location.latitude\n",
    "        longitude = location.longitude\n",
    "        latlong_dict['Lat'].append(latitude)\n",
    "        latlong_dict['Long'].append(longitude)\n",
    "\n",
    "    except:\n",
    "        latlong_dict['Lat'].append(0)\n",
    "        latlong_dict['Long'].append(0)\n",
    "        \n",
    "latlong_dict"
   ]
  },
  {
   "cell_type": "code",
   "execution_count": 48,
   "metadata": {},
   "outputs": [],
   "source": [
    "toronto = toronto_raw\n",
    "toronto['Lat'] = pd.DataFrame(latlong_dict['Lat'])\n",
    "toronto['Long'] = pd.DataFrame(latlong_dict['Long'])"
   ]
  },
  {
   "cell_type": "code",
   "execution_count": 53,
   "metadata": {},
   "outputs": [
    {
     "name": "stdout",
     "output_type": "stream",
     "text": [
      "33 107\n"
     ]
    }
   ],
   "source": [
    "print(len(toronto[toronto['Lat']==0]), len(toronto[toronto['Lat']!=0]))"
   ]
  },
  {
   "cell_type": "code",
   "execution_count": 54,
   "metadata": {},
   "outputs": [],
   "source": [
    "t = toronto"
   ]
  },
  {
   "cell_type": "code",
   "execution_count": 60,
   "metadata": {},
   "outputs": [],
   "source": [
    "t.drop(t[t['Lat']==0].index, inplace=True)"
   ]
  },
  {
   "cell_type": "code",
   "execution_count": 61,
   "metadata": {},
   "outputs": [
    {
     "data": {
      "text/html": [
       "<div>\n",
       "<style scoped>\n",
       "    .dataframe tbody tr th:only-of-type {\n",
       "        vertical-align: middle;\n",
       "    }\n",
       "\n",
       "    .dataframe tbody tr th {\n",
       "        vertical-align: top;\n",
       "    }\n",
       "\n",
       "    .dataframe thead th {\n",
       "        text-align: right;\n",
       "    }\n",
       "</style>\n",
       "<table border=\"1\" class=\"dataframe\">\n",
       "  <thead>\n",
       "    <tr style=\"text-align: right;\">\n",
       "      <th></th>\n",
       "      <th>Borough</th>\n",
       "      <th>Neighborhood</th>\n",
       "      <th>Lat</th>\n",
       "      <th>Long</th>\n",
       "    </tr>\n",
       "  </thead>\n",
       "  <tbody>\n",
       "    <tr>\n",
       "      <td>0</td>\n",
       "      <td>East York</td>\n",
       "      <td>Broadview North</td>\n",
       "      <td>43.683924</td>\n",
       "      <td>-79.356964</td>\n",
       "    </tr>\n",
       "    <tr>\n",
       "      <td>1</td>\n",
       "      <td>East York</td>\n",
       "      <td>Crescent Town</td>\n",
       "      <td>43.695403</td>\n",
       "      <td>-79.293099</td>\n",
       "    </tr>\n",
       "    <tr>\n",
       "      <td>2</td>\n",
       "      <td>East York</td>\n",
       "      <td>Danforth - East York</td>\n",
       "      <td>43.686433</td>\n",
       "      <td>-79.300355</td>\n",
       "    </tr>\n",
       "    <tr>\n",
       "      <td>4</td>\n",
       "      <td>East York</td>\n",
       "      <td>O'Connor-Parkview</td>\n",
       "      <td>43.707842</td>\n",
       "      <td>-79.311074</td>\n",
       "    </tr>\n",
       "    <tr>\n",
       "      <td>5</td>\n",
       "      <td>East York</td>\n",
       "      <td>Old East York</td>\n",
       "      <td>43.699971</td>\n",
       "      <td>-79.332520</td>\n",
       "    </tr>\n",
       "    <tr>\n",
       "      <td>...</td>\n",
       "      <td>...</td>\n",
       "      <td>...</td>\n",
       "      <td>...</td>\n",
       "      <td>...</td>\n",
       "    </tr>\n",
       "    <tr>\n",
       "      <td>132</td>\n",
       "      <td>York</td>\n",
       "      <td>Caledonia-Fairbank</td>\n",
       "      <td>43.686753</td>\n",
       "      <td>-79.459575</td>\n",
       "    </tr>\n",
       "    <tr>\n",
       "      <td>134</td>\n",
       "      <td>York</td>\n",
       "      <td>Keelesdale-Eglinton West</td>\n",
       "      <td>43.690158</td>\n",
       "      <td>-79.474998</td>\n",
       "    </tr>\n",
       "    <tr>\n",
       "      <td>136</td>\n",
       "      <td>York</td>\n",
       "      <td>Mount Dennis</td>\n",
       "      <td>43.686960</td>\n",
       "      <td>-79.489551</td>\n",
       "    </tr>\n",
       "    <tr>\n",
       "      <td>137</td>\n",
       "      <td>York</td>\n",
       "      <td>Oakwood Village</td>\n",
       "      <td>43.682725</td>\n",
       "      <td>-79.438055</td>\n",
       "    </tr>\n",
       "    <tr>\n",
       "      <td>139</td>\n",
       "      <td>York</td>\n",
       "      <td>Weston</td>\n",
       "      <td>43.700161</td>\n",
       "      <td>-79.516247</td>\n",
       "    </tr>\n",
       "  </tbody>\n",
       "</table>\n",
       "<p>107 rows × 4 columns</p>\n",
       "</div>"
      ],
      "text/plain": [
       "       Borough              Neighborhood        Lat       Long\n",
       "0    East York           Broadview North  43.683924 -79.356964\n",
       "1    East York             Crescent Town  43.695403 -79.293099\n",
       "2    East York      Danforth - East York  43.686433 -79.300355\n",
       "4    East York         O'Connor-Parkview  43.707842 -79.311074\n",
       "5    East York             Old East York  43.699971 -79.332520\n",
       "..         ...                       ...        ...        ...\n",
       "132       York        Caledonia-Fairbank  43.686753 -79.459575\n",
       "134       York  Keelesdale-Eglinton West  43.690158 -79.474998\n",
       "136       York              Mount Dennis  43.686960 -79.489551\n",
       "137       York           Oakwood Village  43.682725 -79.438055\n",
       "139       York                    Weston  43.700161 -79.516247\n",
       "\n",
       "[107 rows x 4 columns]"
      ]
     },
     "execution_count": 61,
     "metadata": {},
     "output_type": "execute_result"
    }
   ],
   "source": [
    "t"
   ]
  },
  {
   "cell_type": "code",
   "execution_count": 70,
   "metadata": {},
   "outputs": [
    {
     "data": {
      "text/html": [
       "<div style=\"width:100%;\"><div style=\"position:relative;width:100%;height:0;padding-bottom:60%;\"><span style=\"color:#565656\">Make this Notebook Trusted to load map: File -> Trust Notebook</span><iframe src=\"about:blank\" style=\"position:absolute;width:100%;height:100%;left:0;top:0;border:none !important;\" data-html=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 onload=\"this.contentDocument.open();this.contentDocument.write(atob(this.getAttribute('data-html')));this.contentDocument.close();\" allowfullscreen webkitallowfullscreen mozallowfullscreen></iframe></div></div>"
      ],
      "text/plain": [
       "<folium.folium.Map at 0x7fb15b589fd0>"
      ]
     },
     "execution_count": 70,
     "metadata": {},
     "output_type": "execute_result"
    }
   ],
   "source": [
    "t_map = fm.Map(location = [t_lat, t_long], zoom_start=10)\n",
    "\n",
    "for row in t.iterrows():\n",
    "    hood = row[1] #borough = [0], hood = [1], lat = [2], long = [3]\n",
    "    \n",
    "    label = f'{hood[1]}, {hood[0]}' #hood, borough\n",
    "    fm.CircleMarker(\n",
    "        [hood[2], hood[3]], #LAT, LONG\n",
    "        radius = 5,\n",
    "        popup = label,\n",
    "        color = 'blue',\n",
    "        fill=True,\n",
    "        fill_color = '#3186cc',\n",
    "        fill_opacity = .7).add_to(t_map)\n",
    "    \n",
    "t_map"
   ]
  },
  {
   "cell_type": "code",
   "execution_count": 73,
   "metadata": {},
   "outputs": [],
   "source": [
    "toronto_raw.to_csv('Toronto_raw.csv')"
   ]
  },
  {
   "cell_type": "code",
   "execution_count": null,
   "metadata": {},
   "outputs": [],
   "source": []
  }
 ],
 "metadata": {
  "kernelspec": {
   "display_name": "Python 3",
   "language": "python",
   "name": "python3"
  },
  "language_info": {
   "codemirror_mode": {
    "name": "ipython",
    "version": 3
   },
   "file_extension": ".py",
   "mimetype": "text/x-python",
   "name": "python",
   "nbconvert_exporter": "python",
   "pygments_lexer": "ipython3",
   "version": "3.7.4"
  }
 },
 "nbformat": 4,
 "nbformat_minor": 2
}
